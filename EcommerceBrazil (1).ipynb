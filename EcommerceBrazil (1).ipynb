{
 "cells": [
  {
   "cell_type": "code",
   "execution_count": 1,
   "id": "f504182e-9954-49cb-878e-d02c2d57d026",
   "metadata": {},
   "outputs": [
    {
     "name": "stdout",
     "output_type": "stream",
     "text": [
      "Processing olist_customers_dataset.csv\n",
      "NaN values before replacement:\n",
      "customer_id                 0\n",
      "customer_unique_id          0\n",
      "customer_zip_code_prefix    0\n",
      "customer_city               0\n",
      "customer_state              0\n",
      "dtype: int64\n",
      "\n",
      "Processing olist_orders_dataset.csv\n",
      "NaN values before replacement:\n",
      "order_id                            0\n",
      "customer_id                         0\n",
      "order_status                        0\n",
      "order_purchase_timestamp            0\n",
      "order_approved_at                 160\n",
      "order_delivered_carrier_date     1783\n",
      "order_delivered_customer_date    2965\n",
      "order_estimated_delivery_date       0\n",
      "dtype: int64\n",
      "\n",
      "Processing olist_sellers_dataset.csv\n",
      "NaN values before replacement:\n",
      "seller_id                 0\n",
      "seller_zip_code_prefix    0\n",
      "seller_city               0\n",
      "seller_state              0\n",
      "dtype: int64\n",
      "\n",
      "Processing olist_products_dataset.csv\n",
      "NaN values before replacement:\n",
      "product_id                      0\n",
      "product_category_name         610\n",
      "product_name_lenght           610\n",
      "product_description_lenght    610\n",
      "product_photos_qty            610\n",
      "product_weight_g                2\n",
      "product_length_cm               2\n",
      "product_height_cm               2\n",
      "product_width_cm                2\n",
      "dtype: int64\n",
      "\n",
      "Processing olist_geolocation_dataset.csv\n",
      "NaN values before replacement:\n",
      "geolocation_zip_code_prefix    0\n",
      "geolocation_lat                0\n",
      "geolocation_lng                0\n",
      "geolocation_city               0\n",
      "geolocation_state              0\n",
      "dtype: int64\n",
      "\n",
      "Processing olist_order_payments_dataset.csv\n",
      "NaN values before replacement:\n",
      "order_id                0\n",
      "payment_sequential      0\n",
      "payment_type            0\n",
      "payment_installments    0\n",
      "payment_value           0\n",
      "dtype: int64\n",
      "\n",
      "Processing olist_order_items_dataset.csv\n",
      "NaN values before replacement:\n",
      "order_id               0\n",
      "order_item_id          0\n",
      "product_id             0\n",
      "seller_id              0\n",
      "shipping_limit_date    0\n",
      "price                  0\n",
      "freight_value          0\n",
      "dtype: int64\n",
      "\n",
      "Processing olist_order_reviews_dataset.csv\n",
      "NaN values before replacement:\n",
      "review_id                      0\n",
      "order_id                       0\n",
      "review_score                   0\n",
      "review_comment_title       87656\n",
      "review_comment_message     58247\n",
      "review_creation_date           0\n",
      "review_answer_timestamp        0\n",
      "dtype: int64\n",
      "\n",
      "Processing product_category_name_translation.csv\n",
      "NaN values before replacement:\n",
      "product_category_name            0\n",
      "product_category_name_english    0\n",
      "dtype: int64\n",
      "\n"
     ]
    }
   ],
   "source": [
    "import pandas as pd\n",
    "import mysql.connector\n",
    "import os\n",
    "\n",
    "# List of CSV files and their corresponding table names\n",
    "csv_files = [\n",
    "    ('olist_customers_dataset.csv', 'olist_customers_dataset'),\n",
    "    ('olist_orders_dataset.csv', 'olist_orders_dataset'),\n",
    "    ('olist_sellers_dataset.csv', 'olist_sellers_dataset'),\n",
    "    ('olist_products_dataset.csv', 'olist_products_dataset'),\n",
    "    ('olist_geolocation_dataset.csv', 'olist_geolocation_dataset'),\n",
    "    ('olist_order_payments_dataset.csv', 'olist_order_payments_dataset'),  # Added payments.csv for specific handling\n",
    "    ('olist_order_items_dataset.csv', 'olist_order_items_dataset'),\n",
    "    ('olist_order_reviews_dataset.csv', 'olist_order_reviews_dataset'),\n",
    "    ('product_category_name_translation.csv', 'product_category_name_translation')\n",
    "    \n",
    "]\n",
    "\n",
    "# Connect to the MySQL database\n",
    "conn = mysql.connector.connect(\n",
    "    host='127.0.0.1',\n",
    "    user='root',\n",
    "    password='12345',\n",
    "    database='EcommerceBrazil'\n",
    ")\n",
    "cursor = conn.cursor()\n",
    "\n",
    "# Folder containing the CSV files\n",
    "folder_path = 'C:/Users/Vikash/Desktop/python file/EcommerceBrazil'\n",
    "\n",
    "def get_sql_type(dtype):\n",
    "    if pd.api.types.is_integer_dtype(dtype):\n",
    "        return 'INT'\n",
    "    elif pd.api.types.is_float_dtype(dtype):\n",
    "        return 'FLOAT'\n",
    "    elif pd.api.types.is_bool_dtype(dtype):\n",
    "        return 'BOOLEAN'\n",
    "    elif pd.api.types.is_datetime64_any_dtype(dtype):\n",
    "        return 'DATETIME'\n",
    "    else:\n",
    "        return 'TEXT'\n",
    "\n",
    "for csv_file, table_name in csv_files:\n",
    "    file_path = os.path.join(folder_path, csv_file)\n",
    "    \n",
    "    # Read the CSV file into a pandas DataFrame\n",
    "    df = pd.read_csv(file_path)\n",
    "    \n",
    "    # Replace NaN with None to handle SQL NULL\n",
    "    df = df.where(pd.notnull(df), None)\n",
    "    \n",
    "    # Debugging: Check for NaN values\n",
    "    print(f\"Processing {csv_file}\")\n",
    "    print(f\"NaN values before replacement:\\n{df.isnull().sum()}\\n\")\n",
    "\n",
    "    # Clean column names\n",
    "    df.columns = [col.replace(' ', '_').replace('-', '_').replace('.', '_') for col in df.columns]\n",
    "\n",
    "    # Generate the CREATE TABLE statement with appropriate data types\n",
    "    columns = ', '.join([f'`{col}` {get_sql_type(df[col].dtype)}' for col in df.columns])\n",
    "    create_table_query = f'CREATE TABLE IF NOT EXISTS `{table_name}` ({columns})'\n",
    "    cursor.execute(create_table_query)\n",
    "\n",
    "    # Insert DataFrame data into the MySQL table\n",
    "    for _, row in df.iterrows():\n",
    "        # Convert row to tuple and handle NaN/None explicitly\n",
    "        values = tuple(None if pd.isna(x) else x for x in row)\n",
    "        sql = f\"INSERT INTO `{table_name}` ({', '.join(['`' + col + '`' for col in df.columns])}) VALUES ({', '.join(['%s'] * len(row))})\"\n",
    "        cursor.execute(sql, values)\n",
    "\n",
    "    # Commit the transaction for the current CSV file\n",
    "    conn.commit()\n",
    "\n",
    "# Close the connection\n",
    "conn.close()"
   ]
  },
  {
   "cell_type": "code",
   "execution_count": 1,
   "id": "70beb9d5-3cb6-4774-8b28-4d8dcdfd0115",
   "metadata": {},
   "outputs": [],
   "source": [
    "import pandas as pd\n",
    "import matplotlib.pyplot as plt\n",
    "import seaborn as sns\n",
    "import mysql.connector\n",
    "import numpy as np\n",
    "\n",
    "db = mysql.connector.connect(host = \"localhost\",\n",
    "                             username = \"root\",\n",
    "                             password = \"12345\",\n",
    "                             database = \"EcommerceBrazil\")\n",
    "cur = db.cursor()"
   ]
  },
  {
   "cell_type": "code",
   "execution_count": 4,
   "id": "cbf92477-6470-4642-b7f8-e7506981bdfd",
   "metadata": {},
   "outputs": [
    {
     "data": {
      "text/html": [
       "<div>\n",
       "<style scoped>\n",
       "    .dataframe tbody tr th:only-of-type {\n",
       "        vertical-align: middle;\n",
       "    }\n",
       "\n",
       "    .dataframe tbody tr th {\n",
       "        vertical-align: top;\n",
       "    }\n",
       "\n",
       "    .dataframe thead th {\n",
       "        text-align: right;\n",
       "    }\n",
       "</style>\n",
       "<table border=\"1\" class=\"dataframe\">\n",
       "  <thead>\n",
       "    <tr style=\"text-align: right;\">\n",
       "      <th></th>\n",
       "      <th>product_category_name</th>\n",
       "      <th>product_category_name_english</th>\n",
       "    </tr>\n",
       "  </thead>\n",
       "  <tbody>\n",
       "    <tr>\n",
       "      <th>0</th>\n",
       "      <td>beleza_saude</td>\n",
       "      <td>health_beauty</td>\n",
       "    </tr>\n",
       "    <tr>\n",
       "      <th>1</th>\n",
       "      <td>informatica_acessorios</td>\n",
       "      <td>computers_accessories</td>\n",
       "    </tr>\n",
       "    <tr>\n",
       "      <th>2</th>\n",
       "      <td>automotivo</td>\n",
       "      <td>auto</td>\n",
       "    </tr>\n",
       "    <tr>\n",
       "      <th>3</th>\n",
       "      <td>cama_mesa_banho</td>\n",
       "      <td>bed_bath_table</td>\n",
       "    </tr>\n",
       "    <tr>\n",
       "      <th>4</th>\n",
       "      <td>moveis_decoracao</td>\n",
       "      <td>furniture_decor</td>\n",
       "    </tr>\n",
       "    <tr>\n",
       "      <th>...</th>\n",
       "      <td>...</td>\n",
       "      <td>...</td>\n",
       "    </tr>\n",
       "    <tr>\n",
       "      <th>66</th>\n",
       "      <td>flores</td>\n",
       "      <td>flowers</td>\n",
       "    </tr>\n",
       "    <tr>\n",
       "      <th>67</th>\n",
       "      <td>artes_e_artesanato</td>\n",
       "      <td>arts_and_craftmanship</td>\n",
       "    </tr>\n",
       "    <tr>\n",
       "      <th>68</th>\n",
       "      <td>fraldas_higiene</td>\n",
       "      <td>diapers_and_hygiene</td>\n",
       "    </tr>\n",
       "    <tr>\n",
       "      <th>69</th>\n",
       "      <td>fashion_roupa_infanto_juvenil</td>\n",
       "      <td>fashion_childrens_clothes</td>\n",
       "    </tr>\n",
       "    <tr>\n",
       "      <th>70</th>\n",
       "      <td>seguros_e_servicos</td>\n",
       "      <td>security_and_services</td>\n",
       "    </tr>\n",
       "  </tbody>\n",
       "</table>\n",
       "<p>71 rows × 2 columns</p>\n",
       "</div>"
      ],
      "text/plain": [
       "            product_category_name product_category_name_english\n",
       "0                    beleza_saude                 health_beauty\n",
       "1          informatica_acessorios         computers_accessories\n",
       "2                      automotivo                          auto\n",
       "3                 cama_mesa_banho                bed_bath_table\n",
       "4                moveis_decoracao               furniture_decor\n",
       "..                            ...                           ...\n",
       "66                         flores                       flowers\n",
       "67             artes_e_artesanato         arts_and_craftmanship\n",
       "68                fraldas_higiene           diapers_and_hygiene\n",
       "69  fashion_roupa_infanto_juvenil     fashion_childrens_clothes\n",
       "70             seguros_e_servicos         security_and_services\n",
       "\n",
       "[71 rows x 2 columns]"
      ]
     },
     "execution_count": 4,
     "metadata": {},
     "output_type": "execute_result"
    }
   ],
   "source": [
    "df"
   ]
  },
  {
   "cell_type": "markdown",
   "id": "37f05391-de02-435d-af68-e63426ef99f6",
   "metadata": {},
   "source": [
    "### 1. List all unique cities where customers are located."
   ]
  },
  {
   "cell_type": "code",
   "execution_count": 7,
   "id": "b598e71b-00d0-4445-aeaa-4cd5655b4c1f",
   "metadata": {},
   "outputs": [],
   "source": [
    "query = \"\"\" select distinct customer_city from olist_customers_dataset; \"\"\"\n",
    "cur.execute(query)\n",
    "data = cur.fetchall()\n",
    "data"
   ]
  },
  {
   "cell_type": "markdown",
   "id": "c00d560a-0c5d-48e3-99af-6d615bc6106e",
   "metadata": {},
   "source": [
    "### * count all unique cities where customers are located."
   ]
  },
  {
   "cell_type": "code",
   "execution_count": 17,
   "id": "b7e9d2d8-4471-45f9-8dfb-7a9a5fc05672",
   "metadata": {},
   "outputs": [
    {
     "data": {
      "text/plain": [
       "[(99441,)]"
      ]
     },
     "execution_count": 17,
     "metadata": {},
     "output_type": "execute_result"
    }
   ],
   "source": [
    "query = \"\"\" select distinct count(customer_city) from olist_customers_dataset; \"\"\"\n",
    "cur.execute(query)\n",
    "data = cur.fetchall()\n",
    "data"
   ]
  },
  {
   "cell_type": "code",
   "execution_count": null,
   "id": "97dbe57e-c1f0-4acd-89e1-993dda6c3927",
   "metadata": {},
   "outputs": [],
   "source": [
    "query = \"\"\" select distinct customer_city, count(customer_id) as NO_of_customers from olist_customers_dataset\n",
    "group by customer_city\n",
    "order by NO_of_customers desc; \"\"\"\n",
    "cur.execute(query)\n",
    "data = cur.fetchall()\n",
    "data"
   ]
  },
  {
   "cell_type": "markdown",
   "id": "7f915818-9c73-4f74-99f5-c28e7ce3bf73",
   "metadata": {},
   "source": [
    "### 2. Count the number of orders placed in 2017."
   ]
  },
  {
   "cell_type": "code",
   "execution_count": 3,
   "id": "91c7ebc9-beac-4d74-888f-bd7243f13465",
   "metadata": {},
   "outputs": [
    {
     "data": {
      "text/plain": [
       "('total orders placed in 2017 are', 45101)"
      ]
     },
     "execution_count": 3,
     "metadata": {},
     "output_type": "execute_result"
    }
   ],
   "source": [
    "query = \"\"\" select count(order_id) from olist_orders_dataset where year(order_purchase_timestamp) = 2017 \"\"\"\n",
    "cur.execute(query)\n",
    "data = cur.fetchall()\n",
    "\"total orders placed in 2017 are\", data[0][0]"
   ]
  },
  {
   "cell_type": "markdown",
   "id": "6c4935dd-9b76-4eee-a615-df6655ea661c",
   "metadata": {},
   "source": [
    "### 3. Find the total sales per category.\n"
   ]
  },
  {
   "cell_type": "code",
   "execution_count": 41,
   "id": "edd5aa0a-7b76-4c42-bdf0-6e0fd36fdcf9",
   "metadata": {},
   "outputs": [
    {
     "data": {
      "text/html": [
       "<div>\n",
       "<style scoped>\n",
       "    .dataframe tbody tr th:only-of-type {\n",
       "        vertical-align: middle;\n",
       "    }\n",
       "\n",
       "    .dataframe tbody tr th {\n",
       "        vertical-align: top;\n",
       "    }\n",
       "\n",
       "    .dataframe thead th {\n",
       "        text-align: right;\n",
       "    }\n",
       "</style>\n",
       "<table border=\"1\" class=\"dataframe\">\n",
       "  <thead>\n",
       "    <tr style=\"text-align: right;\">\n",
       "      <th></th>\n",
       "      <th>Catogory</th>\n",
       "      <th>sales</th>\n",
       "    </tr>\n",
       "  </thead>\n",
       "  <tbody>\n",
       "    <tr>\n",
       "      <th>0</th>\n",
       "      <td>perfumaria</td>\n",
       "      <td>506738.66</td>\n",
       "    </tr>\n",
       "    <tr>\n",
       "      <th>1</th>\n",
       "      <td>moveis_decoracao</td>\n",
       "      <td>1430176.39</td>\n",
       "    </tr>\n",
       "    <tr>\n",
       "      <th>2</th>\n",
       "      <td>telefonia</td>\n",
       "      <td>486882.05</td>\n",
       "    </tr>\n",
       "    <tr>\n",
       "      <th>3</th>\n",
       "      <td>fashion_bolsas_e_acessorios</td>\n",
       "      <td>218158.28</td>\n",
       "    </tr>\n",
       "    <tr>\n",
       "      <th>4</th>\n",
       "      <td>cama_mesa_banho</td>\n",
       "      <td>1712553.67</td>\n",
       "    </tr>\n",
       "    <tr>\n",
       "      <th>...</th>\n",
       "      <td>...</td>\n",
       "      <td>...</td>\n",
       "    </tr>\n",
       "    <tr>\n",
       "      <th>69</th>\n",
       "      <td>cds_dvds_musicais</td>\n",
       "      <td>1199.43</td>\n",
       "    </tr>\n",
       "    <tr>\n",
       "      <th>70</th>\n",
       "      <td>la_cuisine</td>\n",
       "      <td>2913.53</td>\n",
       "    </tr>\n",
       "    <tr>\n",
       "      <th>71</th>\n",
       "      <td>fashion_roupa_infanto_juvenil</td>\n",
       "      <td>785.67</td>\n",
       "    </tr>\n",
       "    <tr>\n",
       "      <th>72</th>\n",
       "      <td>pc_gamer</td>\n",
       "      <td>2174.43</td>\n",
       "    </tr>\n",
       "    <tr>\n",
       "      <th>73</th>\n",
       "      <td>seguros_e_servicos</td>\n",
       "      <td>324.51</td>\n",
       "    </tr>\n",
       "  </tbody>\n",
       "</table>\n",
       "<p>74 rows × 2 columns</p>\n",
       "</div>"
      ],
      "text/plain": [
       "                         Catogory       sales\n",
       "0                      perfumaria   506738.66\n",
       "1                moveis_decoracao  1430176.39\n",
       "2                       telefonia   486882.05\n",
       "3     fashion_bolsas_e_acessorios   218158.28\n",
       "4                 cama_mesa_banho  1712553.67\n",
       "..                            ...         ...\n",
       "69              cds_dvds_musicais     1199.43\n",
       "70                     la_cuisine     2913.53\n",
       "71  fashion_roupa_infanto_juvenil      785.67\n",
       "72                       pc_gamer     2174.43\n",
       "73             seguros_e_servicos      324.51\n",
       "\n",
       "[74 rows x 2 columns]"
      ]
     },
     "execution_count": 41,
     "metadata": {},
     "output_type": "execute_result"
    }
   ],
   "source": [
    "query = \"\"\" select olist_products_dataset.product_category_name as category, round(sum(olist_order_payments_dataset.payment_value),2) as sales\n",
    "from olist_products_dataset join olist_order_items_dataset\n",
    "on olist_products_dataset.product_id = olist_order_items_dataset.product_id\n",
    "join olist_order_payments_dataset\n",
    "on olist_order_payments_dataset.order_id = olist_order_items_dataset.order_id\n",
    "group by product_category_name\n",
    "\"\"\"\n",
    "cur.execute(query)\n",
    "data = cur.fetchall()\n",
    "data\n",
    "# and if i want to dataframe\n",
    "df = pd.DataFrame(data, columns = [\"Catogory\", \"sales\"])\n",
    "df"
   ]
  },
  {
   "cell_type": "markdown",
   "id": "276b4bef-752a-4531-aa08-9a2039581fc4",
   "metadata": {},
   "source": [
    "### 4. Calculate the percentage of orders that were paid in installments."
   ]
  },
  {
   "cell_type": "code",
   "execution_count": null,
   "id": "ba2f0bea-842b-4a31-8be7-fc8c76f728cc",
   "metadata": {},
   "outputs": [],
   "source": []
  },
  {
   "cell_type": "markdown",
   "id": "81a52fb1-061d-4aed-a9f6-eee25fde3edb",
   "metadata": {},
   "source": [
    "### 5. Count the number of customers from each state. "
   ]
  },
  {
   "cell_type": "code",
   "execution_count": 44,
   "id": "ca0f6033-af0c-4a47-b678-0aa98ef508cd",
   "metadata": {},
   "outputs": [
    {
     "data": {
      "text/html": [
       "<div>\n",
       "<style scoped>\n",
       "    .dataframe tbody tr th:only-of-type {\n",
       "        vertical-align: middle;\n",
       "    }\n",
       "\n",
       "    .dataframe tbody tr th {\n",
       "        vertical-align: top;\n",
       "    }\n",
       "\n",
       "    .dataframe thead th {\n",
       "        text-align: right;\n",
       "    }\n",
       "</style>\n",
       "<table border=\"1\" class=\"dataframe\">\n",
       "  <thead>\n",
       "    <tr style=\"text-align: right;\">\n",
       "      <th></th>\n",
       "      <th>state</th>\n",
       "      <th>customer_count</th>\n",
       "    </tr>\n",
       "  </thead>\n",
       "  <tbody>\n",
       "    <tr>\n",
       "      <th>4</th>\n",
       "      <td>cama_mesa_banho</td>\n",
       "      <td>1712553.67</td>\n",
       "    </tr>\n",
       "    <tr>\n",
       "      <th>12</th>\n",
       "      <td>beleza_saude</td>\n",
       "      <td>1657373.12</td>\n",
       "    </tr>\n",
       "    <tr>\n",
       "      <th>6</th>\n",
       "      <td>informatica_acessorios</td>\n",
       "      <td>1585330.45</td>\n",
       "    </tr>\n",
       "    <tr>\n",
       "      <th>1</th>\n",
       "      <td>moveis_decoracao</td>\n",
       "      <td>1430176.39</td>\n",
       "    </tr>\n",
       "    <tr>\n",
       "      <th>16</th>\n",
       "      <td>relogios_presentes</td>\n",
       "      <td>1429216.68</td>\n",
       "    </tr>\n",
       "  </tbody>\n",
       "</table>\n",
       "</div>"
      ],
      "text/plain": [
       "                     state  customer_count\n",
       "4          cama_mesa_banho      1712553.67\n",
       "12            beleza_saude      1657373.12\n",
       "6   informatica_acessorios      1585330.45\n",
       "1         moveis_decoracao      1430176.39\n",
       "16      relogios_presentes      1429216.68"
      ]
     },
     "execution_count": 44,
     "metadata": {},
     "output_type": "execute_result"
    }
   ],
   "source": [
    "query = \"\"\" select customer_state, count(customer_id)\n",
    "from olist_customers_dataset\n",
    "group by customer_state; \"\"\"\n",
    "cur.execute(query)\n",
    "data = cur.fetchall()\n",
    "data\n",
    "df.head()"
   ]
  },
  {
   "cell_type": "code",
   "execution_count": 45,
   "id": "631cd8a2-1470-41c5-a889-43a644a6c259",
   "metadata": {},
   "outputs": [
    {
     "data": {
      "text/plain": [
       "<function matplotlib.pyplot.show(close=None, block=None)>"
      ]
     },
     "execution_count": 45,
     "metadata": {},
     "output_type": "execute_result"
    },
    {
     "data": {
      "image/png": "[encoded data removed]",
      "text/plain": [
       "<Figure size 800x300 with 1 Axes>"
      ]
     },
     "metadata": {},
     "output_type": "display_data"
    }
   ],
   "source": [
    "df = pd.DataFrame(data, columns = [\"state\", \"customer_count\"])\n",
    "df = df.sort_values(by = \"customer_count\", ascending = False)\n",
    "df\n",
    "plt.figure(figsize = (8,3))\n",
    "plt.bar(df[\"state\"], df[\"customer_count\"])\n",
    "plt.xlabel(\"state\")\n",
    "plt.ylabel(\"customer_count\")\n",
    "plt.title(\"count of customers by states\")\n",
    "plt.xticks(rotation = 90)\n",
    "plt.show "
   ]
  },
  {
   "cell_type": "markdown",
   "id": "70695083-6907-4629-a9b7-c5d86d3b18b9",
   "metadata": {},
   "source": [
    "### 1. Calculate the number of orders per month in 2018."
   ]
  },
  {
   "cell_type": "code",
   "execution_count": 57,
   "id": "2d48197e-0714-4bf3-9465-480a39df575e",
   "metadata": {},
   "outputs": [
    {
     "data": {
      "text/html": [
       "<div>\n",
       "<style scoped>\n",
       "    .dataframe tbody tr th:only-of-type {\n",
       "        vertical-align: middle;\n",
       "    }\n",
       "\n",
       "    .dataframe tbody tr th {\n",
       "        vertical-align: top;\n",
       "    }\n",
       "\n",
       "    .dataframe thead th {\n",
       "        text-align: right;\n",
       "    }\n",
       "</style>\n",
       "<table border=\"1\" class=\"dataframe\">\n",
       "  <thead>\n",
       "    <tr style=\"text-align: right;\">\n",
       "      <th></th>\n",
       "      <th>Months</th>\n",
       "      <th>order_count</th>\n",
       "    </tr>\n",
       "  </thead>\n",
       "  <tbody>\n",
       "    <tr>\n",
       "      <th>0</th>\n",
       "      <td>1</td>\n",
       "      <td>7269</td>\n",
       "    </tr>\n",
       "    <tr>\n",
       "      <th>1</th>\n",
       "      <td>2</td>\n",
       "      <td>6728</td>\n",
       "    </tr>\n",
       "    <tr>\n",
       "      <th>2</th>\n",
       "      <td>3</td>\n",
       "      <td>7211</td>\n",
       "    </tr>\n",
       "    <tr>\n",
       "      <th>3</th>\n",
       "      <td>4</td>\n",
       "      <td>6939</td>\n",
       "    </tr>\n",
       "    <tr>\n",
       "      <th>4</th>\n",
       "      <td>5</td>\n",
       "      <td>6873</td>\n",
       "    </tr>\n",
       "    <tr>\n",
       "      <th>5</th>\n",
       "      <td>6</td>\n",
       "      <td>6167</td>\n",
       "    </tr>\n",
       "    <tr>\n",
       "      <th>6</th>\n",
       "      <td>7</td>\n",
       "      <td>6292</td>\n",
       "    </tr>\n",
       "    <tr>\n",
       "      <th>7</th>\n",
       "      <td>8</td>\n",
       "      <td>6512</td>\n",
       "    </tr>\n",
       "    <tr>\n",
       "      <th>8</th>\n",
       "      <td>9</td>\n",
       "      <td>16</td>\n",
       "    </tr>\n",
       "    <tr>\n",
       "      <th>9</th>\n",
       "      <td>10</td>\n",
       "      <td>4</td>\n",
       "    </tr>\n",
       "  </tbody>\n",
       "</table>\n",
       "</div>"
      ],
      "text/plain": [
       "   Months  order_count\n",
       "0       1         7269\n",
       "1       2         6728\n",
       "2       3         7211\n",
       "3       4         6939\n",
       "4       5         6873\n",
       "5       6         6167\n",
       "6       7         6292\n",
       "7       8         6512\n",
       "8       9           16\n",
       "9      10            4"
      ]
     },
     "execution_count": 57,
     "metadata": {},
     "output_type": "execute_result"
    }
   ],
   "source": [
    "query = \"\"\" select month(order_purchase_timestamp) months, count(order_id) order_count\n",
    "from olist_orders_dataset where year (order_purchase_timestamp) = 2018\n",
    "group by months \n",
    "order by (month(order_purchase_timestamp))\"\"\"\n",
    "cur.execute(query)\n",
    "data = cur.fetchall()\n",
    "data\n",
    "df = pd.DataFrame(data, columns = [\"Months\", \"order_count\"])\n",
    "df"
   ]
  },
  {
   "cell_type": "code",
   "execution_count": 68,
   "id": "945f66b3-2c32-4cc7-b132-98804ec978cd",
   "metadata": {},
   "outputs": [
    {
     "data": {
      "text/plain": [
       "<function matplotlib.pyplot.show(close=None, block=None)>"
      ]
     },
     "execution_count": 68,
     "metadata": {},
     "output_type": "execute_result"
    },
    {
     "data": {
      "image/png": "[encoded data removed]",
      "text/plain": [
       "<Figure size 800x300 with 1 Axes>"
      ]
     },
     "metadata": {},
     "output_type": "display_data"
    }
   ],
   "source": [
    "df = pd.DataFrame(data, columns = [\"Months\", \"order_count\"])\n",
    "df = df.sort_values(by = \"order_count\", ascending = False)\n",
    "df\n",
    "plt.figure(figsize = (8,3))\n",
    "plt.bar(df[\"Months\"], df[\"order_count\"])\n",
    "plt.xlabel(\"Months\")\n",
    "plt.ylabel(\"order_count\")\n",
    "plt.title(\" number of orders per month in 2018 \")\n",
    "plt.xticks(rotation = 0)\n",
    "plt.show "
   ]
  },
  {
   "cell_type": "markdown",
   "id": "be564344-7161-49c8-ab5d-ec99d3941742",
   "metadata": {},
   "source": [
    "### 2.Find the average number of products per order, grouped by customer city."
   ]
  },
  {
   "cell_type": "code",
   "execution_count": 15,
   "id": "1af523de-9fcb-4dec-ae32-6b6a67148ee7",
   "metadata": {},
   "outputs": [
    {
     "data": {
      "text/html": [
       "<div>\n",
       "<style scoped>\n",
       "    .dataframe tbody tr th:only-of-type {\n",
       "        vertical-align: middle;\n",
       "    }\n",
       "\n",
       "    .dataframe tbody tr th {\n",
       "        vertical-align: top;\n",
       "    }\n",
       "\n",
       "    .dataframe thead th {\n",
       "        text-align: right;\n",
       "    }\n",
       "</style>\n",
       "<table border=\"1\" class=\"dataframe\">\n",
       "  <thead>\n",
       "    <tr style=\"text-align: right;\">\n",
       "      <th></th>\n",
       "      <th>customer_city</th>\n",
       "      <th>average_product/order</th>\n",
       "    </tr>\n",
       "  </thead>\n",
       "  <tbody>\n",
       "    <tr>\n",
       "      <th>0</th>\n",
       "      <td>padre carvalho</td>\n",
       "      <td>7.00</td>\n",
       "    </tr>\n",
       "    <tr>\n",
       "      <th>1</th>\n",
       "      <td>celso ramos</td>\n",
       "      <td>6.50</td>\n",
       "    </tr>\n",
       "    <tr>\n",
       "      <th>2</th>\n",
       "      <td>datas</td>\n",
       "      <td>6.00</td>\n",
       "    </tr>\n",
       "    <tr>\n",
       "      <th>3</th>\n",
       "      <td>candido godoi</td>\n",
       "      <td>6.00</td>\n",
       "    </tr>\n",
       "    <tr>\n",
       "      <th>4</th>\n",
       "      <td>matias olimpio</td>\n",
       "      <td>5.00</td>\n",
       "    </tr>\n",
       "    <tr>\n",
       "      <th>5</th>\n",
       "      <td>cidelandia</td>\n",
       "      <td>4.00</td>\n",
       "    </tr>\n",
       "    <tr>\n",
       "      <th>6</th>\n",
       "      <td>picarra</td>\n",
       "      <td>4.00</td>\n",
       "    </tr>\n",
       "    <tr>\n",
       "      <th>7</th>\n",
       "      <td>morro de sao paulo</td>\n",
       "      <td>4.00</td>\n",
       "    </tr>\n",
       "    <tr>\n",
       "      <th>8</th>\n",
       "      <td>teixeira soares</td>\n",
       "      <td>4.00</td>\n",
       "    </tr>\n",
       "    <tr>\n",
       "      <th>9</th>\n",
       "      <td>curralinho</td>\n",
       "      <td>4.00</td>\n",
       "    </tr>\n",
       "  </tbody>\n",
       "</table>\n",
       "</div>"
      ],
      "text/plain": [
       "        customer_city average_product/order\n",
       "0      padre carvalho                  7.00\n",
       "1         celso ramos                  6.50\n",
       "2               datas                  6.00\n",
       "3       candido godoi                  6.00\n",
       "4      matias olimpio                  5.00\n",
       "5          cidelandia                  4.00\n",
       "6             picarra                  4.00\n",
       "7  morro de sao paulo                  4.00\n",
       "8     teixeira soares                  4.00\n",
       "9          curralinho                  4.00"
      ]
     },
     "execution_count": 15,
     "metadata": {},
     "output_type": "execute_result"
    }
   ],
   "source": [
    "query = \"\"\" with count_per_order as\n",
    "(select olist_orders_dataset.order_id, olist_orders_dataset.customer_id, count(olist_order_items_dataset.order_id) as oc\n",
    "from olist_orders_dataset join olist_order_items_dataset\n",
    "on olist_orders_dataset.order_id = olist_order_items_dataset.order_id\n",
    "group by olist_orders_dataset.order_id, olist_orders_dataset.customer_id)\n",
    "\n",
    "select olist_customers_dataset.customer_city, round(avg(count_per_order.oc),2) average_orders\n",
    "from olist_customers_dataset join count_per_order \n",
    "on olist_customers_dataset.customer_id = count_per_order.customer_id\n",
    "group by olist_customers_dataset.customer_city order by average_orders desc;\n",
    "\"\"\"\n",
    "\n",
    "cur.execute(query)\n",
    "data = cur.fetchall()\n",
    "data\n",
    "\n",
    "df = pd.DataFrame(data, columns = [\"customer_city\", \"average_product/order\"])\n",
    "df\n",
    "df.head(10)"
   ]
  },
  {
   "cell_type": "markdown",
   "id": "569342c0-38fd-4982-8236-fc363fe0af69",
   "metadata": {},
   "source": [
    "### 3. Calculate the percentage of total revenue contributed by each product category."
   ]
  },
  {
   "cell_type": "code",
   "execution_count": 23,
   "id": "6d4d1ec4-12d9-4c14-b059-cef27a15ffa0",
   "metadata": {},
   "outputs": [
    {
     "data": {
      "text/html": [
       "<div>\n",
       "<style scoped>\n",
       "    .dataframe tbody tr th:only-of-type {\n",
       "        vertical-align: middle;\n",
       "    }\n",
       "\n",
       "    .dataframe tbody tr th {\n",
       "        vertical-align: top;\n",
       "    }\n",
       "\n",
       "    .dataframe thead th {\n",
       "        text-align: right;\n",
       "    }\n",
       "</style>\n",
       "<table border=\"1\" class=\"dataframe\">\n",
       "  <thead>\n",
       "    <tr style=\"text-align: right;\">\n",
       "      <th></th>\n",
       "      <th>category</th>\n",
       "      <th>percentage_distribution</th>\n",
       "    </tr>\n",
       "  </thead>\n",
       "  <tbody>\n",
       "    <tr>\n",
       "      <th>0</th>\n",
       "      <td>cama_mesa_banho</td>\n",
       "      <td>10.70</td>\n",
       "    </tr>\n",
       "    <tr>\n",
       "      <th>1</th>\n",
       "      <td>beleza_saude</td>\n",
       "      <td>10.35</td>\n",
       "    </tr>\n",
       "    <tr>\n",
       "      <th>2</th>\n",
       "      <td>informatica_acessorios</td>\n",
       "      <td>9.90</td>\n",
       "    </tr>\n",
       "    <tr>\n",
       "      <th>3</th>\n",
       "      <td>moveis_decoracao</td>\n",
       "      <td>8.93</td>\n",
       "    </tr>\n",
       "    <tr>\n",
       "      <th>4</th>\n",
       "      <td>relogios_presentes</td>\n",
       "      <td>8.93</td>\n",
       "    </tr>\n",
       "    <tr>\n",
       "      <th>...</th>\n",
       "      <td>...</td>\n",
       "      <td>...</td>\n",
       "    </tr>\n",
       "    <tr>\n",
       "      <th>69</th>\n",
       "      <td>casa_conforto_2</td>\n",
       "      <td>0.01</td>\n",
       "    </tr>\n",
       "    <tr>\n",
       "      <th>70</th>\n",
       "      <td>cds_dvds_musicais</td>\n",
       "      <td>0.01</td>\n",
       "    </tr>\n",
       "    <tr>\n",
       "      <th>71</th>\n",
       "      <td>pc_gamer</td>\n",
       "      <td>0.01</td>\n",
       "    </tr>\n",
       "    <tr>\n",
       "      <th>72</th>\n",
       "      <td>fashion_roupa_infanto_juvenil</td>\n",
       "      <td>0.00</td>\n",
       "    </tr>\n",
       "    <tr>\n",
       "      <th>73</th>\n",
       "      <td>seguros_e_servicos</td>\n",
       "      <td>0.00</td>\n",
       "    </tr>\n",
       "  </tbody>\n",
       "</table>\n",
       "<p>74 rows × 2 columns</p>\n",
       "</div>"
      ],
      "text/plain": [
       "                         category  percentage_distribution\n",
       "0                 cama_mesa_banho                    10.70\n",
       "1                    beleza_saude                    10.35\n",
       "2          informatica_acessorios                     9.90\n",
       "3                moveis_decoracao                     8.93\n",
       "4              relogios_presentes                     8.93\n",
       "..                            ...                      ...\n",
       "69                casa_conforto_2                     0.01\n",
       "70              cds_dvds_musicais                     0.01\n",
       "71                       pc_gamer                     0.01\n",
       "72  fashion_roupa_infanto_juvenil                     0.00\n",
       "73             seguros_e_servicos                     0.00\n",
       "\n",
       "[74 rows x 2 columns]"
      ]
     },
     "execution_count": 23,
     "metadata": {},
     "output_type": "execute_result"
    }
   ],
   "source": [
    "query = \"\"\" select olist_products_dataset.product_category_name, \n",
    "round((sum(olist_order_payments_dataset.payment_value)/ (select sum(payment_value) from olist_order_payments_dataset))*100,2) sales\n",
    "from olist_products_dataset join olist_order_items_dataset\n",
    "on olist_products_dataset.product_id = olist_order_items_dataset.product_id\n",
    "join olist_order_payments_dataset\n",
    "on olist_order_payments_dataset.order_id = olist_order_items_dataset.order_id\n",
    "group by product_category_name\n",
    "order by sales desc;\"\"\"\n",
    "cur.execute(query)\n",
    "data = cur.fetchall()\n",
    "data\n",
    "\n",
    "df = pd.DataFrame(data, columns = [\"category\", \"percentage_distribution\"])\n",
    "df\n",
    "\n"
   ]
  },
  {
   "cell_type": "code",
   "execution_count": 19,
   "id": "29de0d6d-477a-46f3-b6b1-5d108db40d80",
   "metadata": {},
   "outputs": [
    {
     "data": {
      "image/png": "[encoded data removed]",
      "text/plain": [
       "<Figure size 1000x500 with 1 Axes>"
      ]
     },
     "metadata": {},
     "output_type": "display_data"
    }
   ],
   "source": [
    "df_top10 = df.head(10)\n",
    "\n",
    "# Plot\n",
    "plt.figure(figsize=(10, 5))\n",
    "plt.bar(df_top10[\"category\"], df_top10[\"percentage_distribution\"], color='skyblue')\n",
    "plt.xlabel(\"Product Category\")\n",
    "plt.ylabel(\"Percentage of Total Sales (%)\")\n",
    "plt.title(\"Top 10 Product Categories by % of Total Sales\")\n",
    "plt.xticks(rotation=45, ha='right')\n",
    "plt.tight_layout()\n",
    "plt.show()"
   ]
  },
  {
   "cell_type": "markdown",
   "id": "bd5eb31b-f85b-43c3-ac79-7fb1a3a72a4c",
   "metadata": {},
   "source": [
    "### 4. Identify the correlation between product price and the number of times a product has been purchased."
   ]
  },
  {
   "cell_type": "code",
   "execution_count": 27,
   "id": "3d01ea07-e87c-41b7-b1ac-1a5ba1c736f6",
   "metadata": {},
   "outputs": [
    {
     "name": "stdout",
     "output_type": "stream",
     "text": [
      "the correlation between price and number of times a product has been purchased is -0.10631514167157562\n"
     ]
    }
   ],
   "source": [
    "query = \"\"\" select olist_products_dataset.product_category_name, \n",
    "count(olist_order_items_dataset.product_id), \n",
    "round(avg(olist_order_items_dataset.price),2) \n",
    "from olist_products_dataset join olist_order_items_dataset \n",
    "on olist_products_dataset.product_id = olist_order_items_dataset.product_id \n",
    "group by olist_products_dataset.product_category_name ;\"\"\"\n",
    "cur.execute(query)\n",
    "data = cur.fetchall()\n",
    "data\n",
    "\n",
    "df = pd.DataFrame(data, columns = [\"product_category_name\", \" order_count\", \"price\"])\n",
    "df\n",
    "arr1 = df[\" order_count\"]\n",
    "arr2 = df[\"price\"]\n",
    "a = np.corrcoef([arr1,arr2])\n",
    "print(\"the correlation between price and number of times a product has been purchased is\", a[0][-1])"
   ]
  },
  {
   "cell_type": "markdown",
   "id": "c0b5c911-c197-4703-9f3b-2069b91c7b5c",
   "metadata": {},
   "source": [
    "### 5. Calculate the total revenue generated by each seller, and rank them by revenue."
   ]
  },
  {
   "cell_type": "code",
   "execution_count": 29,
   "id": "82136d7a-5ec3-40ee-9cea-4f23c5c9a9f5",
   "metadata": {},
   "outputs": [
    {
     "data": {
      "image/png": "[encoded data removed]",
      "text/plain": [
       "<Figure size 640x480 with 1 Axes>"
      ]
     },
     "metadata": {},
     "output_type": "display_data"
    }
   ],
   "source": [
    "query = \"\"\" select *, dense_rank() over(order by revenue desc) as rn from \n",
    "(select olist_order_items_dataset.seller_id, sum(olist_order_payments_dataset.payment_value) \n",
    "revenue from olist_order_items_dataset join olist_order_payments_dataset \n",
    "on olist_order_items_dataset.order_id = olist_order_payments_dataset.order_id \n",
    "group by olist_order_items_dataset.seller_id) as a \"\"\" \n",
    "cur.execute(query) \n",
    "data = cur.fetchall() \n",
    "df = pd.DataFrame (data, columns = [\"seller_id\", \"revenue\", \"rank\"]) \n",
    "df = df.head() \n",
    "sns.barplot(x = \"seller_id\", y = \"revenue\", data = df) \n",
    "plt.xticks(rotation = 20) \n",
    "plt.show()"
   ]
  },
  {
   "cell_type": "markdown",
   "id": "4fc1610b-f780-4afb-83ec-6b7c52bcfe45",
   "metadata": {},
   "source": [
    "### 1. Calculate the moving average of order values for each customer over their order history."
   ]
  },
  {
   "cell_type": "code",
   "execution_count": null,
   "id": "ed7f01cc-efff-46da-9af7-8b26c225d2d5",
   "metadata": {},
   "outputs": [],
   "source": []
  },
  {
   "cell_type": "markdown",
   "id": "9bdbc361-bbd3-4c8e-8b47-6eb048ca6d0d",
   "metadata": {},
   "source": [
    "### 2. Calculate the cumulative sales per month for each year."
   ]
  },
  {
   "cell_type": "code",
   "execution_count": null,
   "id": "5e078ad9-7b27-4afe-943c-9ffea05e369d",
   "metadata": {},
   "outputs": [],
   "source": []
  },
  {
   "cell_type": "markdown",
   "id": "2031c35d-6968-486a-b8b9-99c8af3768d0",
   "metadata": {},
   "source": [
    "### 3. Calculate the year-over-year growth rate of total sales."
   ]
  },
  {
   "cell_type": "code",
   "execution_count": null,
   "id": "68b397ea-13c1-421c-88fb-1a1b0bdf5d43",
   "metadata": {},
   "outputs": [],
   "source": []
  },
  {
   "cell_type": "markdown",
   "id": "8bf76a78-34cb-4243-928e-ba86322405a6",
   "metadata": {},
   "source": [
    "### 4. Calculate the retention rate of customers, defined as the percentage of customers who make another purchase within 6 months of their first purchase."
   ]
  },
  {
   "cell_type": "code",
   "execution_count": null,
   "id": "75c85369-ed03-41c4-acd1-f0abce5b43f6",
   "metadata": {},
   "outputs": [],
   "source": []
  },
  {
   "cell_type": "markdown",
   "id": "7a73bfff-cf2a-4088-ad49-916811408900",
   "metadata": {},
   "source": [
    "### 5. Identify the top 3 customers who spent the most money in each year."
   ]
  },
  {
   "cell_type": "code",
   "execution_count": null,
   "id": "7d5e905f-7ec6-4ed4-aaad-2e055dc3ea3f",
   "metadata": {},
   "outputs": [],
   "source": []
  },
  {
   "cell_type": "markdown",
   "id": "a458a80e-eb65-4bb9-bbc9-dcbc4df22da8",
   "metadata": {},
   "source": [
    "# chatGPT"
   ]
  },
  {
   "cell_type": "markdown",
   "id": "4146f167-b6f1-4684-a3ba-a37a174f0630",
   "metadata": {},
   "source": [
    "### 1. What are the unique product categories available?"
   ]
  },
  {
   "cell_type": "code",
   "execution_count": 80,
   "id": "d880621e-6ea7-4b66-b948-fb36bcd9119e",
   "metadata": {},
   "outputs": [
    {
     "data": {
      "text/html": [
       "<div>\n",
       "<style scoped>\n",
       "    .dataframe tbody tr th:only-of-type {\n",
       "        vertical-align: middle;\n",
       "    }\n",
       "\n",
       "    .dataframe tbody tr th {\n",
       "        vertical-align: top;\n",
       "    }\n",
       "\n",
       "    .dataframe thead th {\n",
       "        text-align: right;\n",
       "    }\n",
       "</style>\n",
       "<table border=\"1\" class=\"dataframe\">\n",
       "  <thead>\n",
       "    <tr style=\"text-align: right;\">\n",
       "      <th></th>\n",
       "      <th>products</th>\n",
       "    </tr>\n",
       "  </thead>\n",
       "  <tbody>\n",
       "    <tr>\n",
       "      <th>0</th>\n",
       "      <td>perfumaria</td>\n",
       "    </tr>\n",
       "    <tr>\n",
       "      <th>1</th>\n",
       "      <td>artes</td>\n",
       "    </tr>\n",
       "    <tr>\n",
       "      <th>2</th>\n",
       "      <td>esporte_lazer</td>\n",
       "    </tr>\n",
       "    <tr>\n",
       "      <th>3</th>\n",
       "      <td>bebes</td>\n",
       "    </tr>\n",
       "    <tr>\n",
       "      <th>4</th>\n",
       "      <td>utilidades_domesticas</td>\n",
       "    </tr>\n",
       "  </tbody>\n",
       "</table>\n",
       "</div>"
      ],
      "text/plain": [
       "                products\n",
       "0             perfumaria\n",
       "1                  artes\n",
       "2          esporte_lazer\n",
       "3                  bebes\n",
       "4  utilidades_domesticas"
      ]
     },
     "execution_count": 80,
     "metadata": {},
     "output_type": "execute_result"
    }
   ],
   "source": [
    "query = \"\"\" select distinct(product_category_name) as products from olist_products_dataset;\"\"\"\n",
    "cur.execute(query)\n",
    "data = cur.fetchall()\n",
    "data\n",
    "df = pd.DataFrame(data, columns = [\"products\"])\n",
    "df\n",
    "df.head()"
   ]
  },
  {
   "cell_type": "markdown",
   "id": "576433b3-f72f-44bd-9d8b-b24a3241253a",
   "metadata": {},
   "source": [
    "### 2. How many sellers are there in the dataset?"
   ]
  },
  {
   "cell_type": "code",
   "execution_count": 86,
   "id": "1acb960e-8f55-46c6-ab74-3f768a61ff79",
   "metadata": {},
   "outputs": [
    {
     "data": {
      "text/html": [
       "<div>\n",
       "<style scoped>\n",
       "    .dataframe tbody tr th:only-of-type {\n",
       "        vertical-align: middle;\n",
       "    }\n",
       "\n",
       "    .dataframe tbody tr th {\n",
       "        vertical-align: top;\n",
       "    }\n",
       "\n",
       "    .dataframe thead th {\n",
       "        text-align: right;\n",
       "    }\n",
       "</style>\n",
       "<table border=\"1\" class=\"dataframe\">\n",
       "  <thead>\n",
       "    <tr style=\"text-align: right;\">\n",
       "      <th></th>\n",
       "      <th>total_sellers</th>\n",
       "    </tr>\n",
       "  </thead>\n",
       "  <tbody>\n",
       "    <tr>\n",
       "      <th>0</th>\n",
       "      <td>3095</td>\n",
       "    </tr>\n",
       "  </tbody>\n",
       "</table>\n",
       "</div>"
      ],
      "text/plain": [
       "   total_sellers\n",
       "0           3095"
      ]
     },
     "execution_count": 86,
     "metadata": {},
     "output_type": "execute_result"
    }
   ],
   "source": [
    "query = \"\"\" select count(distinct(seller_id)) as total_sellers from olist_sellers_dataset \"\"\"\n",
    "cur.execute(query)\n",
    "data = cur.fetchall()\n",
    "data\n",
    "df = pd.DataFrame(data, columns = [\"total_sellers\"])\n",
    "df\n",
    "df.head()"
   ]
  },
  {
   "cell_type": "markdown",
   "id": "4bb819b3-0d48-4426-b59f-6ae33617454e",
   "metadata": {},
   "source": [
    "### 3. Find the number of orders per payment type."
   ]
  },
  {
   "cell_type": "code",
   "execution_count": 110,
   "id": "9300e548-9dd5-45a0-a81b-90634cf388c8",
   "metadata": {},
   "outputs": [
    {
     "data": {
      "text/html": [
       "<div>\n",
       "<style scoped>\n",
       "    .dataframe tbody tr th:only-of-type {\n",
       "        vertical-align: middle;\n",
       "    }\n",
       "\n",
       "    .dataframe tbody tr th {\n",
       "        vertical-align: top;\n",
       "    }\n",
       "\n",
       "    .dataframe thead th {\n",
       "        text-align: right;\n",
       "    }\n",
       "</style>\n",
       "<table border=\"1\" class=\"dataframe\">\n",
       "  <thead>\n",
       "    <tr style=\"text-align: right;\">\n",
       "      <th></th>\n",
       "      <th>order_id</th>\n",
       "      <th>payment_type</th>\n",
       "    </tr>\n",
       "  </thead>\n",
       "  <tbody>\n",
       "    <tr>\n",
       "      <th>0</th>\n",
       "      <td>76795</td>\n",
       "      <td>credit_card</td>\n",
       "    </tr>\n",
       "    <tr>\n",
       "      <th>1</th>\n",
       "      <td>19784</td>\n",
       "      <td>boleto</td>\n",
       "    </tr>\n",
       "    <tr>\n",
       "      <th>2</th>\n",
       "      <td>5775</td>\n",
       "      <td>voucher</td>\n",
       "    </tr>\n",
       "    <tr>\n",
       "      <th>3</th>\n",
       "      <td>1529</td>\n",
       "      <td>debit_card</td>\n",
       "    </tr>\n",
       "    <tr>\n",
       "      <th>4</th>\n",
       "      <td>3</td>\n",
       "      <td>not_defined</td>\n",
       "    </tr>\n",
       "  </tbody>\n",
       "</table>\n",
       "</div>"
      ],
      "text/plain": [
       "   order_id payment_type\n",
       "0     76795  credit_card\n",
       "1     19784       boleto\n",
       "2      5775      voucher\n",
       "3      1529   debit_card\n",
       "4         3  not_defined"
      ]
     },
     "execution_count": 110,
     "metadata": {},
     "output_type": "execute_result"
    }
   ],
   "source": [
    "query = \"\"\" select count(order_id), payment_type from olist_order_payments_dataset\n",
    "group by payment_type\n",
    "\"\"\"\n",
    "cur.execute(query)\n",
    "data = cur.fetchall()\n",
    "data\n",
    "df = pd.DataFrame(data, columns = [\"order_id\",\"payment_type\"])\n",
    "df"
   ]
  },
  {
   "cell_type": "code",
   "execution_count": 111,
   "id": "f537696d-dd07-4974-9280-7d42184c2f3c",
   "metadata": {},
   "outputs": [
    {
     "data": {
      "text/plain": [
       "<function matplotlib.pyplot.show(close=None, block=None)>"
      ]
     },
     "execution_count": 111,
     "metadata": {},
     "output_type": "execute_result"
    },
    {
     "data": {
      "image/png": "[encoded data removed]",
      "text/plain": [
       "<Figure size 800x300 with 1 Axes>"
      ]
     },
     "metadata": {},
     "output_type": "display_data"
    }
   ],
   "source": [
    "df = pd.DataFrame(data, columns = [\"order_id\",\"payment_type\"])\n",
    "df = df.sort_values(by = \"order_id\", ascending = False)\n",
    "df\n",
    "plt.figure(figsize = (8,3))\n",
    "plt.bar(df[\"payment_type\"], df[\"order_id\"])\n",
    "plt.xlabel(\"order_id\")\n",
    "plt.ylabel(\"payment_type\")\n",
    "plt.title(\" the number of orders per payment type.\")\n",
    "plt.xticks(rotation = 0)\n",
    "plt.show "
   ]
  },
  {
   "cell_type": "markdown",
   "id": "90b0d5be-1f4c-412f-afd9-4513ec89c4a3",
   "metadata": {},
   "source": [
    "### 4. List the top 10 cities with the highest number of orders."
   ]
  },
  {
   "cell_type": "code",
   "execution_count": 112,
   "id": "9f139fa8-8dd5-4e34-b66b-f01c462a1f93",
   "metadata": {},
   "outputs": [
    {
     "data": {
      "text/html": [
       "<div>\n",
       "<style scoped>\n",
       "    .dataframe tbody tr th:only-of-type {\n",
       "        vertical-align: middle;\n",
       "    }\n",
       "\n",
       "    .dataframe tbody tr th {\n",
       "        vertical-align: top;\n",
       "    }\n",
       "\n",
       "    .dataframe thead th {\n",
       "        text-align: right;\n",
       "    }\n",
       "</style>\n",
       "<table border=\"1\" class=\"dataframe\">\n",
       "  <thead>\n",
       "    <tr style=\"text-align: right;\">\n",
       "      <th></th>\n",
       "      <th>city</th>\n",
       "      <th>total_orders</th>\n",
       "    </tr>\n",
       "  </thead>\n",
       "  <tbody>\n",
       "    <tr>\n",
       "      <th>0</th>\n",
       "      <td>sao paulo</td>\n",
       "      <td>15540</td>\n",
       "    </tr>\n",
       "    <tr>\n",
       "      <th>1</th>\n",
       "      <td>rio de janeiro</td>\n",
       "      <td>6882</td>\n",
       "    </tr>\n",
       "    <tr>\n",
       "      <th>2</th>\n",
       "      <td>belo horizonte</td>\n",
       "      <td>2773</td>\n",
       "    </tr>\n",
       "    <tr>\n",
       "      <th>3</th>\n",
       "      <td>brasilia</td>\n",
       "      <td>2131</td>\n",
       "    </tr>\n",
       "    <tr>\n",
       "      <th>4</th>\n",
       "      <td>curitiba</td>\n",
       "      <td>1521</td>\n",
       "    </tr>\n",
       "    <tr>\n",
       "      <th>5</th>\n",
       "      <td>campinas</td>\n",
       "      <td>1444</td>\n",
       "    </tr>\n",
       "    <tr>\n",
       "      <th>6</th>\n",
       "      <td>porto alegre</td>\n",
       "      <td>1379</td>\n",
       "    </tr>\n",
       "    <tr>\n",
       "      <th>7</th>\n",
       "      <td>salvador</td>\n",
       "      <td>1245</td>\n",
       "    </tr>\n",
       "    <tr>\n",
       "      <th>8</th>\n",
       "      <td>guarulhos</td>\n",
       "      <td>1189</td>\n",
       "    </tr>\n",
       "    <tr>\n",
       "      <th>9</th>\n",
       "      <td>sao bernardo do campo</td>\n",
       "      <td>938</td>\n",
       "    </tr>\n",
       "  </tbody>\n",
       "</table>\n",
       "</div>"
      ],
      "text/plain": [
       "                    city  total_orders\n",
       "0              sao paulo         15540\n",
       "1         rio de janeiro          6882\n",
       "2         belo horizonte          2773\n",
       "3               brasilia          2131\n",
       "4               curitiba          1521\n",
       "5               campinas          1444\n",
       "6           porto alegre          1379\n",
       "7               salvador          1245\n",
       "8              guarulhos          1189\n",
       "9  sao bernardo do campo           938"
      ]
     },
     "execution_count": 112,
     "metadata": {},
     "output_type": "execute_result"
    }
   ],
   "source": [
    "query = \"\"\" select olist_customers_dataset.customer_city as city, count(olist_orders_dataset.order_id) as total_orders\n",
    "from olist_customers_dataset join olist_orders_dataset\n",
    "on olist_customers_dataset.customer_id = olist_orders_dataset.customer_id\n",
    "group by city\n",
    "order by total_orders desc\n",
    "limit 10;\n",
    "; \"\"\"\n",
    "cur.execute(query)\n",
    "data = cur.fetchall()\n",
    "data\n",
    "df = pd.DataFrame(data, columns = [\"city\",\"total_orders\"])\n",
    "df"
   ]
  },
  {
   "cell_type": "code",
   "execution_count": 113,
   "id": "7b13f76f-29f2-47d0-9802-8aca3fa71595",
   "metadata": {},
   "outputs": [
    {
     "data": {
      "image/png": "[encoded data removed]",
      "text/plain": [
       "<Figure size 1000x500 with 1 Axes>"
      ]
     },
     "metadata": {},
     "output_type": "display_data"
    }
   ],
   "source": [
    "import matplotlib.pyplot as plt\n",
    "\n",
    "# Sort DataFrame to ensure it's ordered (if not already)\n",
    "df = df.sort_values(by=\"total_orders\", ascending=False)\n",
    "\n",
    "plt.figure(figsize=(10, 5))\n",
    "plt.bar(df[\"city\"], df[\"total_orders\"], color=\"skyblue\")\n",
    "plt.xlabel(\"City\")\n",
    "plt.ylabel(\"Number of Orders\")\n",
    "plt.title(\"Top 10 Cities with the Highest Number of Orders\")\n",
    "plt.xticks(rotation=45)\n",
    "plt.tight_layout()\n",
    "plt.show()\n"
   ]
  },
  {
   "cell_type": "code",
   "execution_count": 114,
   "id": "fe551449-8ef0-44df-b9b7-aec36bf805cb",
   "metadata": {},
   "outputs": [
    {
     "data": {
      "image/png": "[encoded data removed]",
      "text/plain": [
       "<Figure size 1000x600 with 1 Axes>"
      ]
     },
     "metadata": {},
     "output_type": "display_data"
    }
   ],
   "source": [
    "plt.figure(figsize=(10, 6))\n",
    "plt.barh(df[\"city\"], df[\"total_orders\"], color=\"mediumseagreen\")\n",
    "plt.xlabel(\"Number of Orders\")\n",
    "plt.ylabel(\"City\")\n",
    "plt.title(\"Top 10 Cities with the Highest Number of Orders\")\n",
    "plt.gca().invert_yaxis()  # Highest at the top\n",
    "plt.tight_layout()\n",
    "plt.show()\n"
   ]
  },
  {
   "cell_type": "markdown",
   "id": "3b98822d-439d-4af7-9ada-6ff6a0c956d6",
   "metadata": {},
   "source": [
    "### 5. Count the number of reviews with each rating (1 to 5)."
   ]
  },
  {
   "cell_type": "code",
   "execution_count": 117,
   "id": "f3c6dda2-8877-4bb3-9334-363cc475a914",
   "metadata": {},
   "outputs": [
    {
     "data": {
      "text/html": [
       "<div>\n",
       "<style scoped>\n",
       "    .dataframe tbody tr th:only-of-type {\n",
       "        vertical-align: middle;\n",
       "    }\n",
       "\n",
       "    .dataframe tbody tr th {\n",
       "        vertical-align: top;\n",
       "    }\n",
       "\n",
       "    .dataframe thead th {\n",
       "        text-align: right;\n",
       "    }\n",
       "</style>\n",
       "<table border=\"1\" class=\"dataframe\">\n",
       "  <thead>\n",
       "    <tr style=\"text-align: right;\">\n",
       "      <th></th>\n",
       "      <th>count of review_id</th>\n",
       "      <th>review_score</th>\n",
       "    </tr>\n",
       "  </thead>\n",
       "  <tbody>\n",
       "    <tr>\n",
       "      <th>0</th>\n",
       "      <td>19142</td>\n",
       "      <td>4</td>\n",
       "    </tr>\n",
       "    <tr>\n",
       "      <th>1</th>\n",
       "      <td>57328</td>\n",
       "      <td>5</td>\n",
       "    </tr>\n",
       "    <tr>\n",
       "      <th>2</th>\n",
       "      <td>11424</td>\n",
       "      <td>1</td>\n",
       "    </tr>\n",
       "    <tr>\n",
       "      <th>3</th>\n",
       "      <td>8179</td>\n",
       "      <td>3</td>\n",
       "    </tr>\n",
       "    <tr>\n",
       "      <th>4</th>\n",
       "      <td>3151</td>\n",
       "      <td>2</td>\n",
       "    </tr>\n",
       "  </tbody>\n",
       "</table>\n",
       "</div>"
      ],
      "text/plain": [
       "   count of review_id  review_score\n",
       "0               19142             4\n",
       "1               57328             5\n",
       "2               11424             1\n",
       "3                8179             3\n",
       "4                3151             2"
      ]
     },
     "execution_count": 117,
     "metadata": {},
     "output_type": "execute_result"
    }
   ],
   "source": [
    "query = \"\"\" select count(review_id), review_score\n",
    "from olist_order_reviews_dataset\n",
    "group by review_score;\n",
    "\n",
    "; \"\"\"\n",
    "cur.execute(query)\n",
    "data = cur.fetchall()\n",
    "data\n",
    "df = pd.DataFrame(data, columns = [\"count of review_id\",\"review_score\"])\n",
    "df"
   ]
  },
  {
   "cell_type": "markdown",
   "id": "69822601-c2d3-4ce5-8900-c04a34017962",
   "metadata": {},
   "source": [
    "### 6. Find the earliest and latest order dates in the dataset."
   ]
  },
  {
   "cell_type": "code",
   "execution_count": 115,
   "id": "716f8fa6-b872-4bc9-ac11-2a7c24e07e10",
   "metadata": {},
   "outputs": [
    {
     "data": {
      "text/html": [
       "<div>\n",
       "<style scoped>\n",
       "    .dataframe tbody tr th:only-of-type {\n",
       "        vertical-align: middle;\n",
       "    }\n",
       "\n",
       "    .dataframe tbody tr th {\n",
       "        vertical-align: top;\n",
       "    }\n",
       "\n",
       "    .dataframe thead th {\n",
       "        text-align: right;\n",
       "    }\n",
       "</style>\n",
       "<table border=\"1\" class=\"dataframe\">\n",
       "  <thead>\n",
       "    <tr style=\"text-align: right;\">\n",
       "      <th></th>\n",
       "      <th>order_id</th>\n",
       "      <th>earliest_date_of_order</th>\n",
       "    </tr>\n",
       "  </thead>\n",
       "  <tbody>\n",
       "    <tr>\n",
       "      <th>0</th>\n",
       "      <td>2e7a8482f6fb09756ca50c10d7bfc047</td>\n",
       "      <td>2016-09-04</td>\n",
       "    </tr>\n",
       "  </tbody>\n",
       "</table>\n",
       "</div>"
      ],
      "text/plain": [
       "                           order_id earliest_date_of_order\n",
       "0  2e7a8482f6fb09756ca50c10d7bfc047             2016-09-04"
      ]
     },
     "execution_count": 115,
     "metadata": {},
     "output_type": "execute_result"
    }
   ],
   "source": [
    "query = \"\"\" select order_id, date(order_purchase_timestamp) as earliest\n",
    "from olist_orders_dataset\n",
    "order by earliest\n",
    "limit 1;\n",
    "; \"\"\"\n",
    "cur.execute(query)\n",
    "data = cur.fetchall()\n",
    "data\n",
    "df = pd.DataFrame(data, columns = [\"order_id\",\"earliest_date_of_order\"])\n",
    "df"
   ]
  },
  {
   "cell_type": "code",
   "execution_count": 116,
   "id": "cdfce53b-83b3-4c0b-b328-d68ac6bb05e7",
   "metadata": {},
   "outputs": [
    {
     "data": {
      "text/html": [
       "<div>\n",
       "<style scoped>\n",
       "    .dataframe tbody tr th:only-of-type {\n",
       "        vertical-align: middle;\n",
       "    }\n",
       "\n",
       "    .dataframe tbody tr th {\n",
       "        vertical-align: top;\n",
       "    }\n",
       "\n",
       "    .dataframe thead th {\n",
       "        text-align: right;\n",
       "    }\n",
       "</style>\n",
       "<table border=\"1\" class=\"dataframe\">\n",
       "  <thead>\n",
       "    <tr style=\"text-align: right;\">\n",
       "      <th></th>\n",
       "      <th>order_id</th>\n",
       "      <th>latest_date_of_order</th>\n",
       "    </tr>\n",
       "  </thead>\n",
       "  <tbody>\n",
       "    <tr>\n",
       "      <th>0</th>\n",
       "      <td>10a045cdf6a5650c21e9cfeb60384c16</td>\n",
       "      <td>2018-10-17</td>\n",
       "    </tr>\n",
       "  </tbody>\n",
       "</table>\n",
       "</div>"
      ],
      "text/plain": [
       "                           order_id latest_date_of_order\n",
       "0  10a045cdf6a5650c21e9cfeb60384c16           2018-10-17"
      ]
     },
     "execution_count": 116,
     "metadata": {},
     "output_type": "execute_result"
    }
   ],
   "source": [
    "query = \"\"\" select order_id, date(order_purchase_timestamp) as latest\n",
    "from olist_orders_dataset\n",
    "order by latest desc\n",
    "limit 1;\n",
    "; \"\"\"\n",
    "cur.execute(query)\n",
    "data = cur.fetchall()\n",
    "data\n",
    "df = pd.DataFrame(data, columns = [\"order_id\",\"latest_date_of_order\"])\n",
    "df"
   ]
  },
  {
   "cell_type": "markdown",
   "id": "74c55e79-b6bd-401a-b305-8ed83347f291",
   "metadata": {},
   "source": [
    "### 1. Calculate average delivery time (from order to delivered date)."
   ]
  },
  {
   "cell_type": "code",
   "execution_count": null,
   "id": "b5e4ed44-0451-4e2b-b42b-a13bbbc7f963",
   "metadata": {},
   "outputs": [],
   "source": []
  },
  {
   "cell_type": "markdown",
   "id": "4b745554-82b7-4726-9d40-32a8b1c01f87",
   "metadata": {},
   "source": [
    "### 2. Find the average review score by product category."
   ]
  },
  {
   "cell_type": "code",
   "execution_count": null,
   "id": "81feda15-80cb-49c7-94d5-d5edff54368f",
   "metadata": {},
   "outputs": [],
   "source": [
    "query = \"\"\" select olist_products_dataset.product_category_name, avg(olist_order_reviews_dataset.review_score) as avg_prod_review\n",
    "from olist_products_dataset join olist_order_items_dataset\n",
    "on olist_products_dataset.product_id = olist_order_items_dataset.product_id\n",
    "join olist_order_reviews_dataset\n",
    "on olist_order_reviews_dataset.order_id = olist_order_items_dataset.order_id\n",
    "group by product_category_name;\n",
    " \"\"\"\n",
    "cur.execute(query)\n",
    "data = cur.fetchall()\n",
    "data\n",
    "df = pd.DataFrame(data, columns = [\"product_category_name\",\"avg_prod_review\"])\n",
    "df"
   ]
  },
  {
   "cell_type": "markdown",
   "id": "7cb60f1a-02f0-435e-9016-cd2725917f1d",
   "metadata": {},
   "source": [
    "### 3. Analyze average payment value per order status."
   ]
  },
  {
   "cell_type": "code",
   "execution_count": 5,
   "id": "1749b8b9-e172-4f15-972b-03875e902209",
   "metadata": {},
   "outputs": [
    {
     "data": {
      "text/html": [
       "<div>\n",
       "<style scoped>\n",
       "    .dataframe tbody tr th:only-of-type {\n",
       "        vertical-align: middle;\n",
       "    }\n",
       "\n",
       "    .dataframe tbody tr th {\n",
       "        vertical-align: top;\n",
       "    }\n",
       "\n",
       "    .dataframe thead th {\n",
       "        text-align: right;\n",
       "    }\n",
       "</style>\n",
       "<table border=\"1\" class=\"dataframe\">\n",
       "  <thead>\n",
       "    <tr style=\"text-align: right;\">\n",
       "      <th></th>\n",
       "      <th>Catogory</th>\n",
       "      <th>avg_payment</th>\n",
       "    </tr>\n",
       "  </thead>\n",
       "  <tbody>\n",
       "    <tr>\n",
       "      <th>0</th>\n",
       "      <td>perfumaria</td>\n",
       "      <td>142.34</td>\n",
       "    </tr>\n",
       "    <tr>\n",
       "      <th>1</th>\n",
       "      <td>moveis_decoracao</td>\n",
       "      <td>163.56</td>\n",
       "    </tr>\n",
       "    <tr>\n",
       "      <th>2</th>\n",
       "      <td>telefonia</td>\n",
       "      <td>103.13</td>\n",
       "    </tr>\n",
       "    <tr>\n",
       "      <th>3</th>\n",
       "      <td>fashion_bolsas_e_acessorios</td>\n",
       "      <td>101.42</td>\n",
       "    </tr>\n",
       "    <tr>\n",
       "      <th>4</th>\n",
       "      <td>cama_mesa_banho</td>\n",
       "      <td>144.85</td>\n",
       "    </tr>\n",
       "    <tr>\n",
       "      <th>...</th>\n",
       "      <td>...</td>\n",
       "      <td>...</td>\n",
       "    </tr>\n",
       "    <tr>\n",
       "      <th>69</th>\n",
       "      <td>cds_dvds_musicais</td>\n",
       "      <td>85.67</td>\n",
       "    </tr>\n",
       "    <tr>\n",
       "      <th>70</th>\n",
       "      <td>la_cuisine</td>\n",
       "      <td>182.10</td>\n",
       "    </tr>\n",
       "    <tr>\n",
       "      <th>71</th>\n",
       "      <td>fashion_roupa_infanto_juvenil</td>\n",
       "      <td>98.21</td>\n",
       "    </tr>\n",
       "    <tr>\n",
       "      <th>72</th>\n",
       "      <td>pc_gamer</td>\n",
       "      <td>217.44</td>\n",
       "    </tr>\n",
       "    <tr>\n",
       "      <th>73</th>\n",
       "      <td>seguros_e_servicos</td>\n",
       "      <td>162.25</td>\n",
       "    </tr>\n",
       "  </tbody>\n",
       "</table>\n",
       "<p>74 rows × 2 columns</p>\n",
       "</div>"
      ],
      "text/plain": [
       "                         Catogory  avg_payment\n",
       "0                      perfumaria       142.34\n",
       "1                moveis_decoracao       163.56\n",
       "2                       telefonia       103.13\n",
       "3     fashion_bolsas_e_acessorios       101.42\n",
       "4                 cama_mesa_banho       144.85\n",
       "..                            ...          ...\n",
       "69              cds_dvds_musicais        85.67\n",
       "70                     la_cuisine       182.10\n",
       "71  fashion_roupa_infanto_juvenil        98.21\n",
       "72                       pc_gamer       217.44\n",
       "73             seguros_e_servicos       162.25\n",
       "\n",
       "[74 rows x 2 columns]"
      ]
     },
     "execution_count": 5,
     "metadata": {},
     "output_type": "execute_result"
    }
   ],
   "source": [
    "query = \"\"\" select olist_products_dataset.product_category_name as category, round(avg(olist_order_payments_dataset.payment_value),2) as avg_payment\n",
    "from olist_products_dataset join olist_order_items_dataset\n",
    "on olist_products_dataset.product_id = olist_order_items_dataset.product_id\n",
    "join olist_order_payments_dataset\n",
    "on olist_order_payments_dataset.order_id = olist_order_items_dataset.order_id\n",
    "group by product_category_name\n",
    "\"\"\"\n",
    "cur.execute(query)\n",
    "data = cur.fetchall()\n",
    "data\n",
    "# and if i want to dataframe\n",
    "df = pd.DataFrame(data, columns = [\"Catogory\", \"avg_payment\"])\n",
    "df"
   ]
  },
  {
   "cell_type": "markdown",
   "id": "04c6974c-5a21-4be8-8d09-b33f5ef362e0",
   "metadata": {},
   "source": [
    "### 5. Identify the number of sellers with sales above a certain threshold."
   ]
  },
  {
   "cell_type": "code",
   "execution_count": null,
   "id": "9eea7e8b-ee1e-4d65-a91d-0c5a6f0b1094",
   "metadata": {},
   "outputs": [],
   "source": [
    "###  1. Predict average delivery time per region using historical data."
   ]
  },
  {
   "cell_type": "code",
   "execution_count": 9,
   "id": "bcd09830-1b64-4478-b051-57d7f319f42a",
   "metadata": {},
   "outputs": [],
   "source": [
    "###  2. Cluster customers based on total spending and number of orders."
   ]
  },
  {
   "cell_type": "code",
   "execution_count": 8,
   "id": "1708d47a-3d79-48d5-ae1f-cb5f34837445",
   "metadata": {},
   "outputs": [],
   "source": [
    "###  3. Analyze refund or cancellation patterns (if status column allows)."
   ]
  },
  {
   "cell_type": "code",
   "execution_count": null,
   "id": "35e40d5c-8666-45d7-873e-f4b55c3c0f1f",
   "metadata": {},
   "outputs": [],
   "source": [
    "###  4. Identify peak sales hours (if timestamp available)."
   ]
  }
 ],
 "metadata": {
  "kernelspec": {
   "display_name": "Python 3 (ipykernel)",
   "language": "python",
   "name": "python3"
  },
  "language_info": {
   "codemirror_mode": {
    "name": "ipython",
    "version": 3
   },
   "file_extension": ".py",
   "mimetype": "text/x-python",
   "name": "python",
   "nbconvert_exporter": "python",
   "pygments_lexer": "ipython3",
   "version": "3.12.6"
  }
 },
 "nbformat": 4,
 "nbformat_minor": 5
}
